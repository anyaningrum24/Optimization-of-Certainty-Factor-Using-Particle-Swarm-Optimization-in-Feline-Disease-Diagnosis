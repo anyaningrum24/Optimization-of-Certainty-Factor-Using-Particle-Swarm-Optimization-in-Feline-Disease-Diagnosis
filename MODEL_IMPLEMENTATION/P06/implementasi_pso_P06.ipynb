{
 "cells": [
  {
   "cell_type": "code",
   "execution_count": 1,
   "id": "f1050cd4",
   "metadata": {},
   "outputs": [],
   "source": [
    "import pandas as pd\n",
    "import numpy as np\n",
    "import os"
   ]
  },
  {
   "cell_type": "code",
   "execution_count": 2,
   "id": "cfa83aca",
   "metadata": {},
   "outputs": [],
   "source": [
    "# Import data\n",
    "file_path = 'C:/Users/User/Documents/SKRIPSI/OPTIMASI PER PENYAKIT/Dataset_Skripsi_Processed.csv'  # Path absolut\n",
    "df = pd.read_csv(file_path)"
   ]
  },
  {
   "cell_type": "code",
   "execution_count": 3,
   "id": "380fb7bd",
   "metadata": {},
   "outputs": [],
   "source": [
    "# Set seed for reproducibility\n",
    "np.random.seed(42)"
   ]
  },
  {
   "cell_type": "markdown",
   "id": "7eb63943",
   "metadata": {},
   "source": [
    "## Inisialisasi Parameter"
   ]
  },
  {
   "cell_type": "code",
   "execution_count": 4,
   "id": "9a85d9b3",
   "metadata": {},
   "outputs": [],
   "source": [
    "w_max = 0.7  # Bobot inersia maksimal\n",
    "w_min = 0.3  # Bobot inersia minimal\n",
    "c1 = 1.5  # Koefisien akselerasi 1\n",
    "c2 = 1.5  # Koefisien akselerasi 2\n",
    "n_particles = 100  # Jumlah partikel\n",
    "n_iterations = 50  # Jumlah iterasi"
   ]
  },
  {
   "cell_type": "code",
   "execution_count": 5,
   "id": "ab1e7fe4",
   "metadata": {},
   "outputs": [],
   "source": [
    "# Filter data untuk P06 saja\n",
    "df_P06 = df[df['kode_penyakit'] == 'P06']  # Ambil data hanya untuk P06\n",
    "cf_pakar = df_P06['cf_pakar'].values  # Mengambil data cf_pakar untuk P06"
   ]
  },
  {
   "cell_type": "markdown",
   "id": "c19a7942",
   "metadata": {},
   "source": [
    "## Fungsi Fitness"
   ]
  },
  {
   "cell_type": "code",
   "execution_count": 6,
   "id": "7d91f654",
   "metadata": {},
   "outputs": [],
   "source": [
    "# Fungsi fitness untuk mengukur sejauh mana posisi partikel mendekati cf_pakar\n",
    "def fitness(position, cf_pakar):\n",
    "    return np.mean((cf_pakar - position) ** 2)  # MSE "
   ]
  },
  {
   "cell_type": "markdown",
   "id": "3c43dbc0",
   "metadata": {},
   "source": [
    "## Implementasi PSO"
   ]
  },
  {
   "cell_type": "code",
   "execution_count": 7,
   "id": "12c2b6dd",
   "metadata": {},
   "outputs": [],
   "source": [
    "def run_pso_get_gbest(cf_pakar):\n",
    "    # Inisialisasi kecepatan dan posisi partikel secara acak\n",
    "    position = np.random.uniform(0.0, 1.0, (n_particles, len(cf_pakar)))  # Posisi partikel\n",
    "    velocity = np.random.uniform(-0.1, 0.1, (n_particles, len(cf_pakar)))  # Kecepatan partikel\n",
    "\n",
    "    # Inisialisasi pbest dan gbest\n",
    "    pbest = position.copy()  # Set pbest awal sama dengan posisi partikel\n",
    "    pbest_score = np.array([fitness(p, cf_pakar) for p in position])  # Nilai fitness awal untuk pbest\n",
    "    gbest = pbest[np.argmin(pbest_score)]  # gbest adalah posisi dengan nilai fitness terbaik\n",
    "    gbest_score = np.min(pbest_score)  # Nilai fitness terbaik untuk gbest\n",
    "\n",
    "    # Iterasi PSO\n",
    "    for iteration in range(n_iterations):\n",
    "        w = w_max - (w_max - w_min) * (iteration / n_iterations)  # Interpolasi w antara w_max dan w_min\n",
    "\n",
    "        # Update posisi dan kecepatan setiap partikel\n",
    "        for i in range(n_particles):\n",
    "            r1 = np.random.rand(len(cf_pakar))  # Random number untuk C1\n",
    "            r2 = np.random.rand(len(cf_pakar))  # Random number untuk C2\n",
    "\n",
    "            # Update kecepatan\n",
    "            velocity[i] = w * velocity[i] + c1 * r1 * (pbest[i] - position[i]) + c2 * r2 * (gbest - position[i])\n",
    "\n",
    "            # Update posisi\n",
    "            position[i] += velocity[i]\n",
    "\n",
    "            # Pastikan posisi berada dalam rentang 0 dan 1\n",
    "            position[i] = np.clip(position[i], 0.0, 1.0)\n",
    "\n",
    "        # Evaluasi fitness setiap partikel\n",
    "        score = np.array([fitness(p, cf_pakar) for p in position])\n",
    "\n",
    "        # Update pbest dan gbest\n",
    "        for i in range(n_particles):\n",
    "            if score[i] < pbest_score[i]:\n",
    "                pbest[i] = position[i]  # Update pbest dengan posisi partikel yang lebih baik\n",
    "                pbest_score[i] = score[i]\n",
    "\n",
    "        # Update gbest jika ditemukan pbest yang lebih baik\n",
    "        gbest_score_new = np.min(pbest_score)\n",
    "        if gbest_score_new < gbest_score:\n",
    "            gbest = pbest[np.argmin(pbest_score)]  # Update gbest dengan posisi pbest terbaik\n",
    "            gbest_score = gbest_score_new\n",
    "\n",
    "        # Tampilkan kecepatan dan posisi setelah update pada iterasi ke-60\n",
    "        if iteration == n_iterations - 1:\n",
    "            display_final_result(gbest, gbest_score, position, velocity, iteration, cf_pakar)\n",
    "\n",
    "    return gbest, gbest_score\n",
    "\n",
    "# Fungsi untuk menampilkan hasil akhir pada iterasi terakhir\n",
    "def display_final_result(gbest, gbest_score, position, velocity, iteration, cf_pakar):\n",
    "    \"\"\"Menampilkan hasil akhir pada iterasi ke-60\"\"\"\n",
    "    print(f\"\\nFitness (gbest iterasi akhir): {gbest_score}\")\n",
    "    print(\"Nilai CF untuk setiap gejala (G01 - G31):\")\n",
    "    \n",
    "    result_data = {\n",
    "        'Penyakit': 'P06',  # Ganti dengan nama penyakit sesuai\n",
    "        'Fitness (gbest iterasi akhir)': round(gbest_score, 5),\n",
    "    }\n",
    "    \n",
    "    # Menambahkan nilai CF untuk setiap gejala\n",
    "    for i, g in enumerate(gbest):\n",
    "        result_data[f'G{i+1}'] = g  # Menampilkan nilai CF per gejala tanpa pembatasan angka di belakang koma\n",
    "    \n",
    "    # Menampilkan hasil akhir (tidak menampilkan velocity dan posisi per iterasi)\n",
    "    print(f\"\\nNilai CF setelah update (Iterasi ke-{n_iterations}):\")\n",
    "    print(result_data)\n",
    "    \n",
    "    # Menyimpan hasil ke CSV\n",
    "    output_file = 'hasil_optimasi_pso_P06.csv'\n",
    "    df_result = pd.DataFrame([result_data])  # Menyusun hasil dalam DataFrame\n",
    "    if os.path.exists(output_file):\n",
    "        df_result.to_csv(output_file, mode='a', header=False, index=False)  # Menambahkan ke file yang sudah ada\n",
    "    else:\n",
    "        df_result.to_csv(output_file, mode='w', header=True, index=False)  # Menyimpan sebagai file baru jika belum ada\n"
   ]
  },
  {
   "cell_type": "code",
   "execution_count": 8,
   "id": "6f218e3e",
   "metadata": {},
   "outputs": [
    {
     "name": "stdout",
     "output_type": "stream",
     "text": [
      "\n",
      "Fitness (gbest iterasi akhir): 0.0038709677419358963\n",
      "Nilai CF untuk setiap gejala (G01 - G31):\n",
      "\n",
      "Nilai CF setelah update (Iterasi ke-50):\n",
      "{'Penyakit': 'P06', 'Fitness (gbest iterasi akhir)': 0.00387, 'G1': 0.7999999079095587, 'G2': 0.0, 'G3': 0.8000000659652396, 'G4': 1.0, 'G5': 1.0, 'G6': 0.0, 'G7': 0.0, 'G8': 0.0, 'G9': 0.0, 'G10': 0.0, 'G11': 0.0, 'G12': 0.0, 'G13': 0.0, 'G14': 0.0, 'G15': 1.0, 'G16': 0.0, 'G17': 1.0, 'G18': 1.0, 'G19': 1.0, 'G20': 0.0, 'G21': 0.0, 'G22': 0.0, 'G23': 0.0, 'G24': 0.0, 'G25': 0.0, 'G26': 0.0, 'G27': 0.0, 'G28': 0.0, 'G29': 0.0, 'G30': 0.0, 'G31': 0.0}\n"
     ]
    }
   ],
   "source": [
    "# Jalankan PSO untuk P06\n",
    "gbest, gbest_score = run_pso_get_gbest(cf_pakar)"
   ]
  }
 ],
 "metadata": {
  "kernelspec": {
   "display_name": "Python 3 (ipykernel)",
   "language": "python",
   "name": "python3"
  },
  "language_info": {
   "codemirror_mode": {
    "name": "ipython",
    "version": 3
   },
   "file_extension": ".py",
   "mimetype": "text/x-python",
   "name": "python",
   "nbconvert_exporter": "python",
   "pygments_lexer": "ipython3",
   "version": "3.9.16"
  }
 },
 "nbformat": 4,
 "nbformat_minor": 5
}
