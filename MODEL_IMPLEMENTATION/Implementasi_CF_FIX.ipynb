{
 "cells": [
  {
   "cell_type": "code",
   "execution_count": 1,
   "id": "d1becbbc",
   "metadata": {
    "scrolled": true
   },
   "outputs": [
    {
     "name": "stdout",
     "output_type": "stream",
     "text": [
      "   kode_pasien diagnosis_asli diagnosis_sebelum  cf_sebelum  cocok_sebelum  \\\n",
      "0        PAS01            P03               P06    0.978227          False   \n",
      "1        PAS02            P03               P07    0.951040          False   \n",
      "2        PAS03            P02               P02    0.962560           True   \n",
      "3        PAS04            P04               P04    0.891136           True   \n",
      "4        PAS05            P06               P07    0.990208          False   \n",
      "..         ...            ...               ...         ...            ...   \n",
      "95       PAS95            P03               P06    0.966400          False   \n",
      "96       PAS96            P06               P06    0.985600           True   \n",
      "97       PAS97            P06               P06    0.997120           True   \n",
      "98       PAS98            P04               P04    0.928000           True   \n",
      "99       PAS99            P06               P06    0.987904           True   \n",
      "\n",
      "   diagnosis_setelah  cf_setelah  cocok_setelah    cf_lebih_unggul  \n",
      "0                P06    0.985600          False       lebih_unggul  \n",
      "1                P06    0.960000          False       lebih_unggul  \n",
      "2                P02    0.992512           True       lebih_unggul  \n",
      "3                P04    0.939590           True       lebih_unggul  \n",
      "4                P06    0.992000           True       lebih_unggul  \n",
      "..               ...         ...            ...                ...  \n",
      "95               P03    0.960000           True  belum_teroptimasi  \n",
      "96               P06    0.992000           True       lebih_unggul  \n",
      "97               P06    0.997120           True       lebih_unggul  \n",
      "98               P04    0.960000           True       lebih_unggul  \n",
      "99               P06    0.992000           True       lebih_unggul  \n",
      "\n",
      "[100 rows x 9 columns]\n"
     ]
    }
   ],
   "source": [
    "import pandas as pd\n",
    "import numpy as np\n",
    "\n",
    "# === Tahap 1: Load Data ===\n",
    "def load_data():\n",
    "    data_optimasi = pd.read_csv('C:/Users/User/Documents/SKRIPSI/OPTIMASI PER PENYAKIT/Start_10,10/hasil_optimasi.csv')\n",
    "    data_rekam = pd.read_csv('C:/Users/User/Documents/SKRIPSI/OPTIMASI PER PENYAKIT/Start_10,10/data_rekam_medis.csv')\n",
    "    return data_optimasi, data_rekam\n",
    "\n",
    "# === Tahap 2: Fungsi Kombinasi CF ===\n",
    "def kombinasi_cf(cf_list):\n",
    "    if not cf_list:\n",
    "        return 0\n",
    "    combined = cf_list[0]\n",
    "    for cf in cf_list[1:]:\n",
    "        combined = combined + cf * (1 - combined)\n",
    "    return combined\n",
    "\n",
    "# === Tahap 3: Buat Dictionary CF ===\n",
    "def buat_lookup_cf(data_optimasi):\n",
    "    cf_pakar = {(row['kode_penyakit'], row['kode_gejala']): row['cf_pakar']\n",
    "                for _, row in data_optimasi.iterrows()}\n",
    "    cf_optimasi = {(row['kode_penyakit'], row['kode_gejala']): row['cf_optimasi']\n",
    "              for _, row in data_optimasi.iterrows()}\n",
    "    return cf_pakar, cf_optimasi\n",
    "\n",
    "# === Tahap 4: Hitung CF per pasien ===\n",
    "def hitung_cf_pasien(group, penyakit_list, cf_dict):\n",
    "    gejala_pasien = group['kode_gejala'].tolist()\n",
    "    cf_user_pasien = group['cf_user'].tolist()\n",
    "\n",
    "    hasil_cf = {}\n",
    "    for penyakit in penyakit_list:\n",
    "        cf_list = []\n",
    "        for gejala, cf_user in zip(gejala_pasien, cf_user_pasien):\n",
    "            nilai_cf = cf_dict.get((penyakit, gejala))\n",
    "            if nilai_cf is not None:\n",
    "                cf_list.append(cf_user * nilai_cf)\n",
    "        hasil_cf[penyakit] = kombinasi_cf(cf_list)\n",
    "    return hasil_cf\n",
    "\n",
    "# === Tahap 5: Proses Utama ===\n",
    "def proses_diagnosis(data_optimasi, data_rekam):\n",
    "    cf_pakar_dict, cf_optimasi_dict = buat_lookup_cf(data_optimasi)\n",
    "    penyakit_list = data_optimasi['kode_penyakit'].unique()\n",
    "\n",
    "    hasil = []\n",
    "\n",
    "    for kode_pasien, group in data_rekam.groupby('kode_pasien'):\n",
    "        diagnosis_asli = group['diagnosis'].iloc[0]\n",
    "\n",
    "        cf_sebelum = hitung_cf_pasien(group, penyakit_list, cf_pakar_dict)\n",
    "        cf_setelah = hitung_cf_pasien(group, penyakit_list, cf_optimasi_dict)\n",
    "\n",
    "        diag_sebelum = max(cf_sebelum.items(), key=lambda x: x[1])\n",
    "        diag_setelah = max(cf_setelah.items(), key=lambda x: x[1])\n",
    "\n",
    "        hasil.append({\n",
    "            'kode_pasien': kode_pasien,\n",
    "            'diagnosis_asli': diagnosis_asli,\n",
    "            'diagnosis_sebelum': diag_sebelum[0],\n",
    "            'cf_sebelum': diag_sebelum[1],\n",
    "            'cocok_sebelum': diag_sebelum[0] == diagnosis_asli,\n",
    "            'diagnosis_setelah': diag_setelah[0],\n",
    "            'cf_setelah': diag_setelah[1],\n",
    "            'cocok_setelah': diag_setelah[0] == diagnosis_asli\n",
    "        })\n",
    "\n",
    "    return pd.DataFrame(hasil)\n",
    "\n",
    "        # === Tahap 6: Evaluasi Hasil CF ===\n",
    "def evaluasi_cf(cf_sebelum, cf_setelah):\n",
    "    if cf_setelah > cf_sebelum:\n",
    "        return 'lebih_unggul'\n",
    "    elif cf_setelah == cf_sebelum:\n",
    "        return 'sama'\n",
    "    else:\n",
    "        return 'belum_teroptimasi'\n",
    "\n",
    "def evaluasi_hasil(hasil_df):\n",
    "    hasil_df['cf_lebih_unggul'] = hasil_df.apply(\n",
    "        lambda row: evaluasi_cf(row['cf_sebelum'], row['cf_setelah']),\n",
    "        axis=1\n",
    "    )\n",
    "    return hasil_df\n",
    "\n",
    "\n",
    "\n",
    "\n",
    "# === Main ===\n",
    "if __name__ == \"__main__\":\n",
    "    data_optimasi, data_rekam = load_data()\n",
    "    hasil_df = proses_diagnosis(data_optimasi, data_rekam)\n",
    "    hasil_df = evaluasi_hasil(hasil_df)\n",
    "\n",
    "    print(hasil_df)\n",
    "    hasil_df.to_csv('hasil_perbandingan_diagnosis_FIX.csv', index=False)\n"
   ]
  },
  {
   "cell_type": "code",
   "execution_count": 2,
   "id": "02100cb6",
   "metadata": {
    "scrolled": true
   },
   "outputs": [
    {
     "name": "stdout",
     "output_type": "stream",
     "text": [
      "Total Pasien: 100\n",
      "cocok Sebelum Optimasi: 85 pasien (85.00%)\n",
      "cocok Sesudah Optimasi: 88 pasien (88.00%)\n"
     ]
    }
   ],
   "source": [
    "# Statistik cocok_sebelum dan cocok_setelah\n",
    "\n",
    "# Hitung total pasien\n",
    "total_pasien = len(hasil_df)\n",
    "\n",
    "# Hitung pasien cocok sebelum dan sesudah\n",
    "jumlah_cocok_sebelum = hasil_df['cocok_sebelum'].sum()\n",
    "jumlah_cocok_setelah = hasil_df['cocok_setelah'].sum()\n",
    "\n",
    "# Hitung persentasenya\n",
    "persen_cocok_sebelum = (jumlah_cocok_sebelum / total_pasien) * 100\n",
    "persen_cocok_setelah = (jumlah_cocok_setelah / total_pasien) * 100\n",
    "\n",
    "# Tampilkan hasil\n",
    "print(\"Total Pasien:\", total_pasien)\n",
    "print(\"cocok Sebelum Optimasi: {} pasien ({:.2f}%)\".format(jumlah_cocok_sebelum, persen_cocok_sebelum))\n",
    "print(\"cocok Sesudah Optimasi: {} pasien ({:.2f}%)\".format(jumlah_cocok_setelah, persen_cocok_setelah))\n"
   ]
  },
  {
   "cell_type": "code",
   "execution_count": 3,
   "id": "e7206dab",
   "metadata": {},
   "outputs": [
    {
     "name": "stdout",
     "output_type": "stream",
     "text": [
      "Jumlah pasien dengan diagnosis yang cocok di SEBELUM dan SESUDAH optimasi: 82\n"
     ]
    }
   ],
   "source": [
    "# Pasien yang cocok baik sebelum maupun sesudah optimasi\n",
    "mask_sama_cocok = (hasil_df['cocok_sebelum'] == True) & (hasil_df['cocok_setelah'] == True)\n",
    "jumlah_sama_cocok = mask_sama_cocok.sum()\n",
    "\n",
    "print(\"Jumlah pasien dengan diagnosis yang cocok di SEBELUM dan SESUDAH optimasi:\", jumlah_sama_cocok)\n"
   ]
  },
  {
   "cell_type": "code",
   "execution_count": 4,
   "id": "c2282c0c",
   "metadata": {},
   "outputs": [
    {
     "name": "stdout",
     "output_type": "stream",
     "text": [
      "Total pasien dengan diagnosis yang cocok di sebelum dan sesudah optimasi: 82\n",
      "Pasien dengan nilai CF lebih unggul setelah optimasi: 58\n",
      "Pasien dengan nilai CF tetap: 2\n",
      "Pasien yang belum teroptimasi: 22\n"
     ]
    }
   ],
   "source": [
    "# Filter hanya pasien yang diagnosisnya cocok sebelum dan sesudah\n",
    "df_sama_cocok = hasil_df[mask_sama_cocok]\n",
    "\n",
    "# Hitung statistik evaluasi nilai CF\n",
    "jumlah_lebih_unggul = (df_sama_cocok['cf_lebih_unggul'] == 'lebih_unggul').sum()\n",
    "jumlah_sama = (df_sama_cocok['cf_lebih_unggul'] == 'sama').sum()\n",
    "jumlah_belum = (df_sama_cocok['cf_lebih_unggul'] == 'belum_teroptimasi').sum()\n",
    "\n",
    "print(\"Total pasien dengan diagnosis yang cocok di sebelum dan sesudah optimasi:\", len(df_sama_cocok))\n",
    "print(\"Pasien dengan nilai CF lebih unggul setelah optimasi:\", jumlah_lebih_unggul)\n",
    "print(\"Pasien dengan nilai CF tetap:\", jumlah_sama)\n",
    "print(\"Pasien yang belum teroptimasi:\", jumlah_belum)\n",
    "\n",
    "\n"
   ]
  },
  {
   "cell_type": "code",
   "execution_count": 5,
   "id": "62cde45b",
   "metadata": {},
   "outputs": [
    {
     "name": "stdout",
     "output_type": "stream",
     "text": [
      "Persentase pasien dengan kenaikan nilai CF dari pasien yang sama-sama cocok : 70.73 %\n"
     ]
    }
   ],
   "source": [
    "total_pasien = len(hasil_df)\n",
    "persen_cf_naik = (jumlah_lebih_unggul / jumlah_sama_cocok) * 100\n",
    "\n",
    "print(\"Persentase pasien dengan kenaikan nilai CF dari pasien yang sama-sama cocok :\", round(persen_cf_naik, 2), \"%\")\n"
   ]
  },
  {
   "cell_type": "code",
   "execution_count": null,
   "id": "0a65c27c",
   "metadata": {},
   "outputs": [],
   "source": []
  }
 ],
 "metadata": {
  "kernelspec": {
   "display_name": "Python 3 (ipykernel)",
   "language": "python",
   "name": "python3"
  },
  "language_info": {
   "codemirror_mode": {
    "name": "ipython",
    "version": 3
   },
   "file_extension": ".py",
   "mimetype": "text/x-python",
   "name": "python",
   "nbconvert_exporter": "python",
   "pygments_lexer": "ipython3",
   "version": "3.9.16"
  }
 },
 "nbformat": 4,
 "nbformat_minor": 5
}
